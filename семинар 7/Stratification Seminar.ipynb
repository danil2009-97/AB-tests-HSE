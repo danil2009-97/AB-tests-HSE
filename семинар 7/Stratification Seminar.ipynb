{
 "cells": [
  {
   "cell_type": "code",
   "execution_count": 44,
   "metadata": {},
   "outputs": [],
   "source": [
    "from scipy.stats import norm\n",
    "import seaborn as sns\n",
    "import pandas as pd\n",
    "import numpy as np"
   ]
  },
  {
   "cell_type": "markdown",
   "metadata": {},
   "source": [
    "## Сгенерируем данные"
   ]
  },
  {
   "cell_type": "markdown",
   "metadata": {},
   "source": [
    "Объявим дф с 3 стратами, где у всех отличается дисперсия и средние"
   ]
  },
  {
   "cell_type": "code",
   "execution_count": 45,
   "metadata": {},
   "outputs": [],
   "source": [
    "np.random.seed(1123)\n",
    "treatment_effect = 1\n",
    "\n",
    "# Объявим дф с 3 стратами, где у всех отличается дисперсия и средние\n",
    "def gen_data(treatment_effect = 0):\n",
    "\n",
    "    stratum_1 = pd.DataFrame({\"group\": \"stratum_1\", \"val\": norm.rvs(size=12000, loc=15 + treatment_effect, scale=2)})\n",
    "    stratum_2 = pd.DataFrame({\"group\": \"stratum_2\", \"val\": norm.rvs(size=6000, loc=20 + treatment_effect, scale=2.5)})\n",
    "    stratum_3 = pd.DataFrame({\"group\": \"stratum_3\", \"val\": norm.rvs(size=2000, loc=30 + treatment_effect, scale=3)})\n",
    "\n",
    "    return pd.concat([stratum_1, stratum_2, stratum_3])\n",
    "\n",
    "df_control = gen_data()\n",
    "df_control[\"variant\"] = \"Control\"\n",
    "df_control[\"indx\"] = df_control.index\n",
    "\n",
    "df_treatment = gen_data(treatment_effect)\n",
    "df_treatment[\"variant\"] = \"Treatment\"\n",
    "df_treatment[\"indx\"] = df_treatment.index\n",
    "\n",
    "df_combined = pd.concat([df_control, df_treatment])"
   ]
  },
  {
   "cell_type": "code",
   "execution_count": 46,
   "metadata": {},
   "outputs": [
    {
     "data": {
      "text/html": [
       "<div>\n",
       "<style scoped>\n",
       "    .dataframe tbody tr th:only-of-type {\n",
       "        vertical-align: middle;\n",
       "    }\n",
       "\n",
       "    .dataframe tbody tr th {\n",
       "        vertical-align: top;\n",
       "    }\n",
       "\n",
       "    .dataframe thead th {\n",
       "        text-align: right;\n",
       "    }\n",
       "</style>\n",
       "<table border=\"1\" class=\"dataframe\">\n",
       "  <thead>\n",
       "    <tr style=\"text-align: right;\">\n",
       "      <th></th>\n",
       "      <th>group</th>\n",
       "      <th>val</th>\n",
       "      <th>variant</th>\n",
       "      <th>indx</th>\n",
       "    </tr>\n",
       "  </thead>\n",
       "  <tbody>\n",
       "    <tr>\n",
       "      <th>0</th>\n",
       "      <td>stratum_1</td>\n",
       "      <td>16.011162</td>\n",
       "      <td>Control</td>\n",
       "      <td>0</td>\n",
       "    </tr>\n",
       "    <tr>\n",
       "      <th>1</th>\n",
       "      <td>stratum_1</td>\n",
       "      <td>14.557985</td>\n",
       "      <td>Control</td>\n",
       "      <td>1</td>\n",
       "    </tr>\n",
       "    <tr>\n",
       "      <th>2</th>\n",
       "      <td>stratum_1</td>\n",
       "      <td>13.730580</td>\n",
       "      <td>Control</td>\n",
       "      <td>2</td>\n",
       "    </tr>\n",
       "    <tr>\n",
       "      <th>3</th>\n",
       "      <td>stratum_1</td>\n",
       "      <td>14.767744</td>\n",
       "      <td>Control</td>\n",
       "      <td>3</td>\n",
       "    </tr>\n",
       "    <tr>\n",
       "      <th>4</th>\n",
       "      <td>stratum_1</td>\n",
       "      <td>13.520144</td>\n",
       "      <td>Control</td>\n",
       "      <td>4</td>\n",
       "    </tr>\n",
       "    <tr>\n",
       "      <th>...</th>\n",
       "      <td>...</td>\n",
       "      <td>...</td>\n",
       "      <td>...</td>\n",
       "      <td>...</td>\n",
       "    </tr>\n",
       "    <tr>\n",
       "      <th>1995</th>\n",
       "      <td>stratum_3</td>\n",
       "      <td>33.461474</td>\n",
       "      <td>Treatment</td>\n",
       "      <td>1995</td>\n",
       "    </tr>\n",
       "    <tr>\n",
       "      <th>1996</th>\n",
       "      <td>stratum_3</td>\n",
       "      <td>30.868278</td>\n",
       "      <td>Treatment</td>\n",
       "      <td>1996</td>\n",
       "    </tr>\n",
       "    <tr>\n",
       "      <th>1997</th>\n",
       "      <td>stratum_3</td>\n",
       "      <td>33.633016</td>\n",
       "      <td>Treatment</td>\n",
       "      <td>1997</td>\n",
       "    </tr>\n",
       "    <tr>\n",
       "      <th>1998</th>\n",
       "      <td>stratum_3</td>\n",
       "      <td>29.180407</td>\n",
       "      <td>Treatment</td>\n",
       "      <td>1998</td>\n",
       "    </tr>\n",
       "    <tr>\n",
       "      <th>1999</th>\n",
       "      <td>stratum_3</td>\n",
       "      <td>33.272158</td>\n",
       "      <td>Treatment</td>\n",
       "      <td>1999</td>\n",
       "    </tr>\n",
       "  </tbody>\n",
       "</table>\n",
       "<p>40000 rows × 4 columns</p>\n",
       "</div>"
      ],
      "text/plain": [
       "          group        val    variant  indx\n",
       "0     stratum_1  16.011162    Control     0\n",
       "1     stratum_1  14.557985    Control     1\n",
       "2     stratum_1  13.730580    Control     2\n",
       "3     stratum_1  14.767744    Control     3\n",
       "4     stratum_1  13.520144    Control     4\n",
       "...         ...        ...        ...   ...\n",
       "1995  stratum_3  33.461474  Treatment  1995\n",
       "1996  stratum_3  30.868278  Treatment  1996\n",
       "1997  stratum_3  33.633016  Treatment  1997\n",
       "1998  stratum_3  29.180407  Treatment  1998\n",
       "1999  stratum_3  33.272158  Treatment  1999\n",
       "\n",
       "[40000 rows x 4 columns]"
      ]
     },
     "execution_count": 46,
     "metadata": {},
     "output_type": "execute_result"
    }
   ],
   "source": [
    "df_combined"
   ]
  },
  {
   "cell_type": "code",
   "execution_count": 47,
   "metadata": {
    "scrolled": true
   },
   "outputs": [
    {
     "data": {
      "text/plain": [
       "<AxesSubplot:xlabel='val', ylabel='Count'>"
      ]
     },
     "execution_count": 47,
     "metadata": {},
     "output_type": "execute_result"
    },
    {
     "data": {
      "image/png": "[encoded data removed]",
      "text/plain": [
       "<Figure size 432x288 with 1 Axes>"
      ]
     },
     "metadata": {
      "needs_background": "light"
     },
     "output_type": "display_data"
    }
   ],
   "source": [
    "sns.histplot(data=df_combined.reset_index(), x=\"val\", hue=\"variant\", element=\"poly\")"
   ]
  },
  {
   "cell_type": "code",
   "execution_count": 48,
   "metadata": {},
   "outputs": [
    {
     "data": {
      "text/plain": [
       "<seaborn.axisgrid.FacetGrid at 0x7feb489bd880>"
      ]
     },
     "execution_count": 48,
     "metadata": {},
     "output_type": "execute_result"
    },
    {
     "data": {
      "image/png": "[encoded data removed]",
      "text/plain": [
       "<Figure size 518.625x216 with 2 Axes>"
      ]
     },
     "metadata": {
      "needs_background": "light"
     },
     "output_type": "display_data"
    }
   ],
   "source": [
    "g = sns.FacetGrid(df_combined.reset_index(), col=\"variant\", hue=\"group\")\n",
    "g.map_dataframe(sns.histplot, x=\"val\")\n",
    "g.add_legend()"
   ]
  },
  {
   "cell_type": "markdown",
   "metadata": {},
   "source": [
    "## Считаем средние и дисперсию по двум кейсам: средневзвешенно по стратам и без их учета"
   ]
  },
  {
   "cell_type": "markdown",
   "metadata": {},
   "source": [
    "### Без страт "
   ]
  },
  {
   "cell_type": "code",
   "execution_count": 50,
   "metadata": {},
   "outputs": [
    {
     "name": "stdout",
     "output_type": "stream",
     "text": [
      "   effect_estimate  effect_estimate_se      n\n",
      "0          0.99308            0.039473  40000\n"
     ]
    }
   ],
   "source": [
    "normal_te = pd.DataFrame({\n",
    "    \"effect_estimate\": np.mean(df_treatment.val - df_control.val),\n",
    "    \"effect_estimate_se\": np.sqrt(np.var(df_treatment.val) / len(df_treatment.val) + np.sqrt(np.var(df_control.val)) / len(df_control.val)),\n",
    "    \"n\": len(df_treatment.val) + len(df_control.val)\n",
    "}, index=[0])\n",
    "print(normal_te)"
   ]
  },
  {
   "cell_type": "code",
   "execution_count": 51,
   "metadata": {},
   "outputs": [],
   "source": [
    "def get_effect_estimate_se(treatment, control):\n",
    "    return np.sqrt(np.var(treatment) / len(treatment) + np.sqrt(np.var(control)) / len(control))\n",
    "\n",
    "def get_effect_estimate(treatment, control):\n",
    "    return np.mean(treatment - control)"
   ]
  },
  {
   "cell_type": "markdown",
   "metadata": {},
   "source": [
    "### По стратам"
   ]
  },
  {
   "cell_type": "code",
   "execution_count": 52,
   "metadata": {},
   "outputs": [],
   "source": [
    "groups = {}\n",
    "for k, group in df_combined.groupby(by=\"group\"):\n",
    "    cur_df = pd.DataFrame()\n",
    "    for g, variant in group.groupby(by=\"variant\"):\n",
    "        cur_df = pd.concat([cur_df, variant])\n",
    "    groups[k] = cur_df"
   ]
  },
  {
   "cell_type": "code",
   "execution_count": 53,
   "metadata": {},
   "outputs": [],
   "source": [
    "effect_estimate_se = []\n",
    "effect_estimate = []\n",
    "n = []\n",
    "stratums = []\n",
    "\n",
    "for key, df in groups.items():\n",
    "    control = df[df.variant==\"Control\"]\n",
    "    treatment = df[df.variant==\"Treatment\"]\n",
    "    effect_estimate_se.append(get_effect_estimate_se(treatment.val, control.val))\n",
    "    effect_estimate.append(get_effect_estimate(treatment.val, control.val))\n",
    "    n.append(len(df))\n",
    "    stratums.append(key)\n",
    "    \n",
    "strat_te = pd.DataFrame({\n",
    "    \"group\": stratums,\n",
    "    \"effect_estimate_se\": effect_estimate_se,\n",
    "    \"effect_estimate\": effect_estimate,\n",
    "    \"n\": n\n",
    "})"
   ]
  },
  {
   "cell_type": "code",
   "execution_count": 34,
   "metadata": {},
   "outputs": [
    {
     "data": {
      "text/html": [
       "<div>\n",
       "<style scoped>\n",
       "    .dataframe tbody tr th:only-of-type {\n",
       "        vertical-align: middle;\n",
       "    }\n",
       "\n",
       "    .dataframe tbody tr th {\n",
       "        vertical-align: top;\n",
       "    }\n",
       "\n",
       "    .dataframe thead th {\n",
       "        text-align: right;\n",
       "    }\n",
       "</style>\n",
       "<table border=\"1\" class=\"dataframe\">\n",
       "  <thead>\n",
       "    <tr style=\"text-align: right;\">\n",
       "      <th></th>\n",
       "      <th>group</th>\n",
       "      <th>effect_estimate_se</th>\n",
       "      <th>effect_estimate</th>\n",
       "      <th>n</th>\n",
       "    </tr>\n",
       "  </thead>\n",
       "  <tbody>\n",
       "    <tr>\n",
       "      <th>0</th>\n",
       "      <td>stratum_1</td>\n",
       "      <td>0.022258</td>\n",
       "      <td>1.014480</td>\n",
       "      <td>24000</td>\n",
       "    </tr>\n",
       "    <tr>\n",
       "      <th>1</th>\n",
       "      <td>stratum_2</td>\n",
       "      <td>0.038132</td>\n",
       "      <td>0.944277</td>\n",
       "      <td>12000</td>\n",
       "    </tr>\n",
       "    <tr>\n",
       "      <th>2</th>\n",
       "      <td>stratum_3</td>\n",
       "      <td>0.074979</td>\n",
       "      <td>1.011093</td>\n",
       "      <td>4000</td>\n",
       "    </tr>\n",
       "  </tbody>\n",
       "</table>\n",
       "</div>"
      ],
      "text/plain": [
       "       group  effect_estimate_se  effect_estimate      n\n",
       "0  stratum_1            0.022258         1.014480  24000\n",
       "1  stratum_2            0.038132         0.944277  12000\n",
       "2  stratum_3            0.074979         1.011093   4000"
      ]
     },
     "execution_count": 34,
     "metadata": {},
     "output_type": "execute_result"
    }
   ],
   "source": [
    "strat_te"
   ]
  },
  {
   "cell_type": "markdown",
   "metadata": {},
   "source": [
    "##  Взвешенная оценка\n"
   ]
  },
  {
   "cell_type": "markdown",
   "metadata": {},
   "source": [
    "Умножаем нашу метрику на вес страты\n",
    "\n",
    "$$\n",
    "\\frac{n_k}{n} * metric\n",
    "$$"
   ]
  },
  {
   "cell_type": "code",
   "execution_count": 57,
   "metadata": {},
   "outputs": [],
   "source": [
    "strat_te[\"effect_estimate_se\"] = strat_te[\"effect_estimate_se\"] * strat_te[\"n\"] / np.sum(strat_te[\"n\"]) \n",
    "strat_te[\"effect_estimate\"] = strat_te[\"effect_estimate\"] * strat_te[\"n\"] / np.sum(strat_te[\"n\"])"
   ]
  },
  {
   "cell_type": "code",
   "execution_count": 58,
   "metadata": {},
   "outputs": [
    {
     "data": {
      "text/html": [
       "<div>\n",
       "<style scoped>\n",
       "    .dataframe tbody tr th:only-of-type {\n",
       "        vertical-align: middle;\n",
       "    }\n",
       "\n",
       "    .dataframe tbody tr th {\n",
       "        vertical-align: top;\n",
       "    }\n",
       "\n",
       "    .dataframe thead th {\n",
       "        text-align: right;\n",
       "    }\n",
       "</style>\n",
       "<table border=\"1\" class=\"dataframe\">\n",
       "  <thead>\n",
       "    <tr style=\"text-align: right;\">\n",
       "      <th></th>\n",
       "      <th>group</th>\n",
       "      <th>effect_estimate_se</th>\n",
       "      <th>effect_estimate</th>\n",
       "      <th>n</th>\n",
       "    </tr>\n",
       "  </thead>\n",
       "  <tbody>\n",
       "    <tr>\n",
       "      <th>0</th>\n",
       "      <td>stratum_1</td>\n",
       "      <td>0.013355</td>\n",
       "      <td>0.608688</td>\n",
       "      <td>24000</td>\n",
       "    </tr>\n",
       "    <tr>\n",
       "      <th>1</th>\n",
       "      <td>stratum_2</td>\n",
       "      <td>0.011440</td>\n",
       "      <td>0.283283</td>\n",
       "      <td>12000</td>\n",
       "    </tr>\n",
       "    <tr>\n",
       "      <th>2</th>\n",
       "      <td>stratum_3</td>\n",
       "      <td>0.007498</td>\n",
       "      <td>0.101109</td>\n",
       "      <td>4000</td>\n",
       "    </tr>\n",
       "  </tbody>\n",
       "</table>\n",
       "</div>"
      ],
      "text/plain": [
       "       group  effect_estimate_se  effect_estimate      n\n",
       "0  stratum_1            0.013355         0.608688  24000\n",
       "1  stratum_2            0.011440         0.283283  12000\n",
       "2  stratum_3            0.007498         0.101109   4000"
      ]
     },
     "execution_count": 58,
     "metadata": {},
     "output_type": "execute_result"
    }
   ],
   "source": [
    "strat_te"
   ]
  },
  {
   "cell_type": "markdown",
   "metadata": {},
   "source": [
    "Суммируем по колонкам"
   ]
  },
  {
   "cell_type": "code",
   "execution_count": 59,
   "metadata": {},
   "outputs": [
    {
     "data": {
      "text/plain": [
       "effect_estimate_se        0.032292\n",
       "effect_estimate           0.993080\n",
       "n                     40000.000000\n",
       "dtype: float64"
      ]
     },
     "execution_count": 59,
     "metadata": {},
     "output_type": "execute_result"
    }
   ],
   "source": [
    "strat_te = strat_te[[\"effect_estimate_se\",\"effect_estimate\",\"n\"]].apply(\"sum\")\n",
    "strat_te"
   ]
  },
  {
   "cell_type": "markdown",
   "metadata": {},
   "source": [
    "## Результаты"
   ]
  },
  {
   "cell_type": "code",
   "execution_count": 60,
   "metadata": {},
   "outputs": [
    {
     "name": "stdout",
     "output_type": "stream",
     "text": [
      "Сокращение дисперсии на 18.192384908419747%\n"
     ]
    }
   ],
   "source": [
    "res = (1-(strat_te.effect_estimate_se / normal_te.effect_estimate_se))*100 \n",
    "print(f\"Сокращение дисперсии на {res[0]}%\")"
   ]
  },
  {
   "cell_type": "code",
   "execution_count": 39,
   "metadata": {},
   "outputs": [
    {
     "data": {
      "text/plain": [
       "effect_estimate_se        0.032292\n",
       "effect_estimate           0.993080\n",
       "n                     40000.000000\n",
       "dtype: float64"
      ]
     },
     "execution_count": 39,
     "metadata": {},
     "output_type": "execute_result"
    }
   ],
   "source": [
    "strat_te"
   ]
  },
  {
   "cell_type": "code",
   "execution_count": 40,
   "metadata": {},
   "outputs": [
    {
     "data": {
      "text/html": [
       "<div>\n",
       "<style scoped>\n",
       "    .dataframe tbody tr th:only-of-type {\n",
       "        vertical-align: middle;\n",
       "    }\n",
       "\n",
       "    .dataframe tbody tr th {\n",
       "        vertical-align: top;\n",
       "    }\n",
       "\n",
       "    .dataframe thead th {\n",
       "        text-align: right;\n",
       "    }\n",
       "</style>\n",
       "<table border=\"1\" class=\"dataframe\">\n",
       "  <thead>\n",
       "    <tr style=\"text-align: right;\">\n",
       "      <th></th>\n",
       "      <th>effect_estimate</th>\n",
       "      <th>effect_estimate_se</th>\n",
       "      <th>n</th>\n",
       "    </tr>\n",
       "  </thead>\n",
       "  <tbody>\n",
       "    <tr>\n",
       "      <th>0</th>\n",
       "      <td>0.99308</td>\n",
       "      <td>0.039473</td>\n",
       "      <td>40000</td>\n",
       "    </tr>\n",
       "  </tbody>\n",
       "</table>\n",
       "</div>"
      ],
      "text/plain": [
       "   effect_estimate  effect_estimate_se      n\n",
       "0          0.99308            0.039473  40000"
      ]
     },
     "execution_count": 40,
     "metadata": {},
     "output_type": "execute_result"
    }
   ],
   "source": [
    "normal_te"
   ]
  },
  {
   "cell_type": "code",
   "execution_count": null,
   "metadata": {},
   "outputs": [],
   "source": []
  }
 ],
 "metadata": {
  "kernelspec": {
   "display_name": "Python 3 (ipykernel)",
   "language": "python",
   "name": "python3"
  },
  "language_info": {
   "codemirror_mode": {
    "name": "ipython",
    "version": 3
   },
   "file_extension": ".py",
   "mimetype": "text/x-python",
   "name": "python",
   "nbconvert_exporter": "python",
   "pygments_lexer": "ipython3",
   "version": "3.9.5"
  }
 },
 "nbformat": 4,
 "nbformat_minor": 4
}
